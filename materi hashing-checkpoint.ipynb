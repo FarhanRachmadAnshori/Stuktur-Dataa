{
 "cells": [
  {
   "cell_type": "markdown",
   "metadata": {},
   "source": [
    "*HASHING\n",
    "    Hashing adalah teknik atau metode memetakan data ke sebuah tempat dimana data sebenarnya dirubah dalam bentuk lain. semisal huruf a menjadi huruf e. Teknik ini biasanya digunakan untuk mengenkrispsi sebuah password didalam database seperti MySQL. \n",
    "Pada python, cara metode Hashing dengan membuat sebuah List yang akan diisi oleh data masukan. Data masukan diberi 2 buah nilai yaitu value sebagai data tersebut dan juga key sebagai alat untuk memasukan value ke List.\n",
    "Algoritma Hashing sebagai berikut :\n",
    "    1.Membuat tabel hash yang berisikan None\n",
    "    2.Memasukan data yang ingin dimasukan\n",
    "    3.Data masukan terdiri dari value dan keynya\n",
    "    4.Lakukan pencarian modulus dari key yang dibagi panjang tabel hash\n",
    "    5.Masukan value dari data tersebut ke dalam tabel hash sesuai indexnya\n",
    "Permasalahan yang terjadi pada hashing adalah apabila pada index yang terjadi banyak value, inilah yang disebut Collision. Cara mengatasinya ada tiga yang sudah saya pelajari, yaitu linear hashing, aquadratic hashing dan chainning.\n",
    "\n",
    "Berikut ini penjelasan dari penyelesaian diatas :\n",
    "\n",
    "    1.Linear Hashing Penyelesaian dengan linear yaitu melakukan penambahan 1 tiap index yang terjadi collision, misalnya, collison terjadi pada index 3, maka data selanjutnya yang berindex 3 akan ditambahkan ke index 4, jika index 4 sudah terdapat value atau isi maka data terdebut ditaruh di index 5.\n",
    "\n",
    "    2.Aquadratic Hashing Penyelesaian dengan Quadratic/Aquadratic ini sama seperti linear akan tetapi penambahan tidak satu persatu, melainkan penambahnya di kuadratkan lalu dimodulus dengan panjang tabel hash. misal jika ada suatu collusion di index ke-2 makan index ke-2 itu di kuadratkan 2 sehingga di menjadi index ke-4 jika nanti index ke-4 sudah ada value/isi maka akan di kuadratkan lagi, dan seterusnya.\n",
    "\n",
    "    3.Chainning Penyelesaian dengan cara Chainning yaitu membuat list didalam tabel hash sehingga data yang berindex sama tidak terjadi collison karena data tersebut ditumpuk ke dalam sebuah list yang telah dibuat.\n",
    "    \n",
    "    LINIER HASING (PROBBBING)\n",
    "    "
   ]
  },
  {
   "cell_type": "code",
   "execution_count": 2,
   "metadata": {},
   "outputs": [
    {
     "name": "stdout",
     "output_type": "stream",
     "text": [
      "[None, None, None, None, None, None, None, None, None, None, None]\n",
      "[None, None, None, None, None, None, None, None, None, None, 54]\n",
      "[None, None, None, None, 26, None, None, None, None, None, 54]\n",
      "[None, None, None, None, 26, 93, None, None, None, None, 54]\n",
      "[None, None, None, None, 26, 93, 17, None, None, None, 54]\n",
      "[77, None, None, None, 26, 93, 17, None, None, None, 54]\n",
      "[77, None, None, None, 26, 93, 17, None, None, 31, 54]\n",
      "[77, 44, None, None, 26, 93, 17, None, None, 31, 54]\n",
      "[77, 44, 55, None, 26, 93, 17, None, None, 31, 54]\n"
     ]
    }
   ],
   "source": [
    "table=[None]*11\n",
    "def hash(x):\n",
    "    return x%11\n",
    "def insert (table,key,value):\n",
    "    index = hash(key)\n",
    "    if table [index]==None:\n",
    "        table[index]= value\n",
    "    else:\n",
    "        collusion=index\n",
    "        found=False\n",
    "        ind=collusion+1\n",
    "        if ind>= len(table)-1:\n",
    "            ind=0\n",
    "        while (ind<= len(table)-1)and not found:\n",
    "            if table[ind]==None:\n",
    "                found=True\n",
    "                table[ind]=value\n",
    "            ind=ind+1\n",
    "print(table)\n",
    "insert(table,54,54)\n",
    "print(table)\n",
    "insert(table,26,26)\n",
    "print(table)\n",
    "insert(table,93,93)\n",
    "print(table)\n",
    "insert(table,17,17)\n",
    "print(table)\n",
    "insert(table,77,77)\n",
    "print(table)\n",
    "insert(table,31,31)\n",
    "print(table)\n",
    "insert(table,44,44)\n",
    "print(table)\n",
    "insert(table,55,55)\n",
    "print(table)\n",
    "insert(table,20,20)\n"
   ]
  },
  {
   "cell_type": "code",
   "execution_count": 15,
   "metadata": {},
   "outputs": [
    {
     "name": "stdout",
     "output_type": "stream",
     "text": [
      "masukan panjang tabel hash:5\n",
      "[[], [], [], [], []]\n",
      "masukan jumlah angka yang ingin dimasukan:4\n",
      "msukan angka:9\n",
      "msukan angka:1\n",
      "msukan angka:6\n",
      "msukan angka:2\n",
      "[[], [1, 6], [2], [], [9]]\n"
     ]
    }
   ],
   "source": [
    "tabel=int(input(\"masukan panjang tabel hash:\"))\n",
    "tabel=[[]for _ in range (tabel)]\n",
    "print (tabel)\n",
    "\n",
    "def hash (x,tabel):\n",
    "    return x%len (tabel)\n",
    "\n",
    "def insert(tabel,key,value):\n",
    "    tabel[hash(key,tabel)].append(value)\n",
    "    \n",
    "a=int(input(\"masukan jumlah angka yang ingin dimasukan:\"))\n",
    "\n",
    "for p in range (a):\n",
    "    b =int(input(\"msukan angka:\"))\n",
    "    insert (tabel,b,b)\n",
    "    p=p+1\n",
    "\n",
    "print(tabel)    \n"
   ]
  },
  {
   "cell_type": "code",
   "execution_count": 16,
   "metadata": {},
   "outputs": [
    {
     "name": "stdout",
     "output_type": "stream",
     "text": [
      "masukan panjang tabel hash:5\n",
      "[None, None, None, None, None]\n",
      "masukan jumlah angka yang ingin dimasukan:4\n",
      "masukan angka:3\n",
      "[None, None, None, 3, None]\n",
      "masukan angka:9\n",
      "[None, None, None, 3, 9]\n",
      "masukan angka:2\n",
      "[None, None, 2, 3, 9]\n",
      "masukan angka:5\n",
      "[5, None, 2, 3, 9]\n",
      "Masukkan Data yg ingin dicari:2\n",
      "[5, None, None, 3, 9]\n"
     ]
    }
   ],
   "source": [
    "tabel=int(input(\"masukan panjang tabel hash:\"))\n",
    "tabel=[None]*tabel\n",
    "print (tabel)\n",
    "\n",
    "def hash (x,tabel):\n",
    "    return x%len (tabel)\n",
    "\n",
    "def insert(tabel,key,value):\n",
    "    index= hash(key,tabel)\n",
    "    if tabel [index]== None:\n",
    "        tabel[index]=value\n",
    "    else:\n",
    "        collusion = index\n",
    "        found=False\n",
    "        i=1\n",
    "        while i>0  and not found:\n",
    "            ind=collusion + i**2\n",
    "            ind=ind %len(tabel)\n",
    "            if tabel[ind]== None:\n",
    "                found=True\n",
    "                tabel[ind]=value\n",
    "            i=i+1\n",
    "\n",
    "a=int(input(\"masukan jumlah angka yang ingin dimasukan:\"))\n",
    "for p in range (a):\n",
    "    b =int(input(\"masukan angka:\"))\n",
    "    insert (tabel,b,b)\n",
    "    print (tabel)\n",
    "d=int(input(\"Masukkan Data yg ingin dicari:\"))\n",
    "posisi=0\n",
    "end=len(tabel)-1\n",
    "found = False\n",
    "if d not in tabel:\n",
    "  insert(tabel,d,d)\n",
    "else :\n",
    "  while posisi <= end :\n",
    "    if tabel [posisi]==d:\n",
    "      found=True\n",
    "      tabel[posisi]=None\n",
    "    else:\n",
    "      posisi=posisi+1\n",
    "print(tabel)   "
   ]
  },
  {
   "cell_type": "code",
   "execution_count": null,
   "metadata": {},
   "outputs": [],
   "source": []
  }
 ],
 "metadata": {
  "kernelspec": {
   "display_name": "Python 3",
   "language": "python",
   "name": "python3"
  },
  "language_info": {
   "codemirror_mode": {
    "name": "ipython",
    "version": 3
   },
   "file_extension": ".py",
   "mimetype": "text/x-python",
   "name": "python",
   "nbconvert_exporter": "python",
   "pygments_lexer": "ipython3",
   "version": "3.7.1"
  }
 },
 "nbformat": 4,
 "nbformat_minor": 2
}
