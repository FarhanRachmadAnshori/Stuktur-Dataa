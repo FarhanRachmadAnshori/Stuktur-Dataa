{
 "cells": [
  {
   "cell_type": "markdown",
   "metadata": {},
   "source": [
    "SEARCHING\n",
    "\n",
    "searching adalah\n",
    "ada 2 metode searching, yaitu\n",
    "    1. Linier searching\n",
    "        Linear Searching atau sequential search adalah sebuah metode pencarian data dengan cara membandingkan nilai yang \n",
    "       dicari dengan nilai dari setiap elemen list , mulai dari elemen pertama (indeks = 0) sampai nilai yang dicari \n",
    "       ditemukan atau sampai elemen terakhir (indeks - n).\n",
    "    2. Binary searching\n",
    "        Binary Search merupakan metode pencarian data dengan membagi 2 atau pencarian dimulai dari indeks list bagian \n",
    "      tengah, lalu membandingkannya. Jika bertemu dengan angka yang lebih kecil dari pada yang dicari, maka langsung \n",
    "      dibuangnya, begitu seterusnya hingga nilai yang dicari (==) cocok.\n",
    "      \n",
    "METODE LINIER SEARCHING menggunakan list, dan parameter(fungsi)"
   ]
  },
  {
   "cell_type": "code",
   "execution_count": 2,
   "metadata": {},
   "outputs": [
    {
     "name": "stdout",
     "output_type": "stream",
     "text": [
      "didnt find the search number\n",
      "didnt find the search number\n",
      "didnt find the search number\n",
      "didnt find the search number\n",
      "didnt find the search number\n"
     ]
    }
   ],
   "source": [
    "#mengunakan list(biasa)\n",
    "search = 2\n",
    "mylist = [1,2,3,4,5,6]\n",
    "position = 0\n",
    "last = len(mylist)-1\n",
    "found = False\n",
    "for i in range (len(mylist)-1) :\n",
    "    if mylist[position] == search:\n",
    "        found = True\n",
    "        position= position + 1\n",
    "        print(\"found the search number\")\n",
    "        print(position)\n",
    "    else :\n",
    "        print (\"didnt find the search number\")"
   ]
  },
  {
   "cell_type": "code",
   "execution_count": null,
   "metadata": {},
   "outputs": [],
   "source": []
  }
 ],
 "metadata": {
  "kernelspec": {
   "display_name": "Python 3",
   "language": "python",
   "name": "python3"
  },
  "language_info": {
   "codemirror_mode": {
    "name": "ipython",
    "version": 3
   },
   "file_extension": ".py",
   "mimetype": "text/x-python",
   "name": "python",
   "nbconvert_exporter": "python",
   "pygments_lexer": "ipython3",
   "version": "3.7.1"
  }
 },
 "nbformat": 4,
 "nbformat_minor": 2
}
