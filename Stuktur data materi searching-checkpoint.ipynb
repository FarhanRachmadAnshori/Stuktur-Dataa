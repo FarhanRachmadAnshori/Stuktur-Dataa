{
 "cells": [
  {
   "cell_type": "markdown",
   "metadata": {},
   "source": [
    "SEARCHING\n",
    "\n",
    "searching adalah\n",
    "ada 2 metode searching, yaitu\n",
    "    1. Linier searching\n",
    "        Linear Searching atau sequential search adalah sebuah metode pencarian data dengan cara membandingkan nilai yang \n",
    "       dicari dengan nilai dari setiap elemen list , mulai dari elemen pertama (indeks = 0) sampai nilai yang dicari \n",
    "       ditemukan atau sampai elemen terakhir (indeks - n).\n",
    "    2. Binary searching\n",
    "        Binary Search merupakan metode pencarian data dengan membagi 2 atau pencarian dimulai dari indeks list bagian \n",
    "      tengah, lalu membandingkannya. Jika bertemu dengan angka yang lebih kecil dari pada yang dicari, maka langsung \n",
    "      dibuangnya, begitu seterusnya hingga nilai yang dicari (==) cocok.\n",
    "      \n",
    "METODE LINIER SEARCHING menggunakan list, dan parameter(fungsi)"
   ]
  },
  {
   "cell_type": "code",
   "execution_count": 2,
   "metadata": {},
   "outputs": [
    {
     "name": "stdout",
     "output_type": "stream",
     "text": [
      "didnt find the search number\n",
      "didnt find the search number\n",
      "didnt find the search number\n",
      "didnt find the search number\n",
      "didnt find the search number\n"
     ]
    }
   ],
   "source": [
    "#mengunakan list(biasa)\n",
    "search = 2\n",
    "mylist = [1,2,3,4,5,6]\n",
    "position = 0\n",
    "last = len(mylist)-1\n",
    "found = False\n",
    "for i in range (len(mylist)-1) :\n",
    "    if mylist[position] == search:\n",
    "        found = True\n",
    "        position= position + 1\n",
    "        print(\"found the search number\")\n",
    "        print(position)\n",
    "    else :\n",
    "        print (\"didnt find the search number\")"
   ]
  },
  {
   "cell_type": "code",
   "execution_count": 1,
   "metadata": {},
   "outputs": [
    {
     "name": "stdout",
     "output_type": "stream",
     "text": [
      "didnt find the search number\n",
      "found the search number\n",
      "1\n"
     ]
    }
   ],
   "source": [
    "#fungsi(parameter)\n",
    "def deret (search, mylist) :\n",
    "    position = 0\n",
    "    last = len(mylist)-1\n",
    "    found = False\n",
    "    while position <= last and not found :\n",
    "        if mylist[position] == search:\n",
    "            found = True\n",
    "        else :\n",
    "            position= position + 1\n",
    "        if found :\n",
    "            print(\"found the search number\")\n",
    "            print(position)\n",
    "        else :\n",
    "            print (\"didnt find the search number\")\n",
    "deret(2,[1,2,3,4,5,6])"
   ]
  },
  {
   "cell_type": "code",
   "execution_count": 2,
   "metadata": {},
   "outputs": [
    {
     "name": "stdout",
     "output_type": "stream",
     "text": [
      "[0, 2, 8, 14, 14, 15, 18, 18, 19, 19]\n",
      "MASUKKAN ANGKA=8\n",
      "angka yang dicari terletak di indeks : 2\n",
      "proses iterasinya : 3\n"
     ]
    }
   ],
   "source": [
    "#mencari data dengan angka inputan tergantung user, dengan menggunakan linier searching\n",
    "\n",
    "mylist=[15,18,2,19,18,0,8,14,19,14]\n",
    "mylist.sort()\n",
    "print(mylist)\n",
    "search=int(input(\"MASUKKAN ANGKA=\"))\n",
    "position =0\n",
    "iterasi = 0\n",
    "last = len(mylist)-1\n",
    "found = False\n",
    "while position <= last and not found :\n",
    "    iterasi+=1\n",
    "    if mylist[position]==search:\n",
    "        found = True\n",
    "    if search < mylist [position] :\n",
    "        break\n",
    "    else :\n",
    "        position= position + 1\n",
    "if found : \n",
    "    print(\"angka yang dicari terletak di indeks :\" , position-1)\n",
    "    print(\"proses iterasinya :\", iterasi )\n",
    "else :\n",
    "    print (\"didnt find the search number\")\n",
    "    print (\"proses iterasinya :\", iterasi)"
   ]
  },
  {
   "cell_type": "markdown",
   "metadata": {},
   "source": [
    "BINARY SEARCHING"
   ]
  },
  {
   "cell_type": "code",
   "execution_count": 7,
   "metadata": {},
   "outputs": [
    {
     "name": "stdout",
     "output_type": "stream",
     "text": [
      "[1, 2, 2, 3, 3, 4, 4, 5, 6, 7, 33]\n",
      "tidak ketemu\n"
     ]
    }
   ],
   "source": [
    "#binary search dgn array(biasa)\n",
    "mylist=[1,2,3,4,4,5,6,7,33,2,3]\n",
    "mylist.sort()\n",
    "first = 0\n",
    "last = len(mylist)-1\n",
    "found = False\n",
    "mid=(first+last)//2\n",
    "while mylist[mid] <= last and not found :\n",
    "    mid= (first+last)//2\n",
    "    if mylist[mid] == search :\n",
    "        found= True\n",
    "    else:\n",
    "        if mylist[mid]> search :\n",
    "            first=mid+1\n",
    "        else:\n",
    "            last=mid-1\n",
    "print(mylist)\n",
    "if found :\n",
    "    print(\"ketemu\")\n",
    "    print(mid)\n",
    "else :\n",
    "    print (\"tidak ketemu\")"
   ]
  },
  {
   "cell_type": "code",
   "execution_count": 8,
   "metadata": {},
   "outputs": [
    {
     "name": "stdout",
     "output_type": "stream",
     "text": [
      "masukkan jumlah list : 5\n",
      "2\n",
      "masukkan angka ke -  1  :  2\n",
      "9\n",
      "masukkan angka ke -  2  :  9\n",
      "6\n",
      "masukkan angka ke -  3  :  6\n",
      "1\n",
      "masukkan angka ke -  4  :  1\n",
      "7\n",
      "masukkan angka ke -  5  :  7\n",
      "[1, 2, 6, 7, 9]\n",
      "MASUKKAN ANGKA=6\n",
      "True\n",
      "ANGKA DI TEMUKAN 6\n",
      "jumlah iterasi sebanyak= 1\n"
     ]
    }
   ],
   "source": [
    "#Pencarian data inputan tergantung user menggunakan linier searching\n",
    "mylist=[]\n",
    "a = int(input(\"masukkan jumlah list : \"))\n",
    "b = 0\n",
    "for x in range (a) :\n",
    "    b = b + 1\n",
    "    c = int(input())\n",
    "    print(\"masukkan angka ke - \", b,\" : \", c)\n",
    "    mylist.append(c)\n",
    "for i in range ((a - 1),0,-1) :\n",
    "    for p in range (a - 1) :\n",
    "        if mylist[p] > mylist [p+1] :\n",
    "            d = mylist [p]\n",
    "            mylist[p] = mylist[p+1]\n",
    "            mylist[p+1] = d\n",
    "print(mylist)        \n",
    "        \n",
    "search=int(input(\"MASUKKAN ANGKA=\"))\n",
    "akhir = len(mylist)-1\n",
    "position = 0\n",
    "iterasi = 0\n",
    "found = False\n",
    "print(found== False)\n",
    "while position < akhir and found==False:\n",
    "    iterasi +=1\n",
    "    mid=(akhir+position)//2\n",
    "    if mylist[mid] == search:\n",
    "        print(\"ANGKA DI TEMUKAN\", search)\n",
    "        found= True\n",
    "    elif akhir == search :\n",
    "        print(\"angka telah ditemukan\", search )\n",
    "        found= True\n",
    "    elif mid == search :\n",
    "        print (\"angka telah ditemukan\", search)\n",
    "        found= True\n",
    "    elif mid>search :\n",
    "        akhir= mid-1\n",
    "        position=position+1\n",
    "    elif mid<search :\n",
    "        position= mid-1\n",
    "        akhir=akhir-1\n",
    "        \n",
    "    else :\n",
    "            print(\"angka tidak ditemukan\")\n",
    "            \n",
    "print (\"jumlah iterasi sebanyak=\", iterasi)\n"
   ]
  }
 ],
 "metadata": {
  "kernelspec": {
   "display_name": "Python 3",
   "language": "python",
   "name": "python3"
  },
  "language_info": {
   "codemirror_mode": {
    "name": "ipython",
    "version": 3
   },
   "file_extension": ".py",
   "mimetype": "text/x-python",
   "name": "python",
   "nbconvert_exporter": "python",
   "pygments_lexer": "ipython3",
   "version": "3.7.1"
  }
 },
 "nbformat": 4,
 "nbformat_minor": 2
}
