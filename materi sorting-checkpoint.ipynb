{
 "cells": [
  {
   "attachments": {},
   "cell_type": "markdown",
   "metadata": {},
   "source": [
    "Sorting\n",
    "Pengurutan (sorting) adalah proses yang mengatur sekumpulan objek/data sehingga nilainya tersusun, baik itu dari kecil ke besar (ascending) atau dari besar ke kecil (descending). \n",
    "sorting ada 6 macam yaitu:\n",
    "    1. Bubble Sort\n",
    "        Bubble adalah algoritma pengurutan sederhana yang berulang kali menelusuri daftar yang akan diurutkan, membandingkan\n",
    "        setiap pasangan item yang berdekatan dan menukarnya jika urutannya salah.\n",
    "    2. Selection Sort\n",
    "        Selection adalah menemukan nilai minimum dalam array dan memindahkannya ke posisi pertama. Langkah ini kemudian diulang\n",
    "        untuk nilai terendah kedua, lalu yang ketiga, dan seterusnya hingga array diurutkan.\n",
    "    3. Insertion Sort\n",
    "        selalu mempertahankan sublist yang diurutkan di posisi bawah daftar. Setiap item baru kemudian \"dimasukkan\" kembali ke\n",
    "        sublist sebelumnya sehingga sublist yang diurutkan adalah satu item lebih besar.\n",
    "    4. Quick Sort\n",
    "        Quick sort adalah algoritma penyortiran populer yang sering kali lebih cepat dalam praktiknya dibandingkan dengan\n",
    "        algoritma penyortiran lainnya. Ini menggunakan strategi divide-and-conquer untuk mengurutkan item data dengan cepat\n",
    "        dengan membagi array besar menjadi dua array yang lebih kecil.\n",
    "    5. Marged Sort\n",
    "       Marged Sort adalah algoritma Divide and Conquer. Ini membagi array input dalam dua bagian, memanggil dirinya untuk dua\n",
    "       bagian dan kemudian menggabungkan dua bagian yang diurutkan. Fungsi gabungan () digunakan untuk menggabungkan dua\n",
    "       bagian.\n",
    "    6. Shell Sort\n",
    "        Hal ini dapat dilihat sebagai generalisasi penyortiran dengan pertukaran (bubble sort) atau penyortiran dengan\n",
    "        penyisipan (insertion sort). Metode ini dimulai dengan menyortir pasangan elemen yang berjauhan satu sama lain,\n",
    "        kemudian secara progresif mengurangi kesenjangan antara elemen yang akan dibandingkan. Dimulai dengan elemen berjauhan,\n",
    "        ia dapat memindahkan beberapa elemen out-of-place ke posisi lebih cepat dari pertukaran tetangga terdekat yang\n",
    "        sederhana."
   ]
  },
  {
   "cell_type": "markdown",
   "metadata": {},
   "source": [
    "BUBBLE SORT"
   ]
  },
  {
   "cell_type": "code",
   "execution_count": 1,
   "metadata": {},
   "outputs": [
    {
     "name": "stdout",
     "output_type": "stream",
     "text": [
      "[2, 4, 5, 6, 7, 1, 8]\n",
      "[2, 4, 5, 6, 1, 7, 8]\n",
      "[2, 4, 5, 1, 6, 7, 8]\n",
      "[2, 4, 1, 5, 6, 7, 8]\n",
      "[2, 1, 4, 5, 6, 7, 8]\n",
      "[1, 2, 4, 5, 6, 7, 8]\n",
      "[1, 2, 4, 5, 6, 7, 8]\n"
     ]
    }
   ],
   "source": [
    "#di urutkan dari yang terkecil ke yang terbesar\n",
    "mylist=[2,4,5,6,7,8,1]\n",
    "for i in range(len(mylist)-1):\n",
    "    x=0\n",
    "    y=1\n",
    "    while y<len(mylist):\n",
    "        if mylist[x]>mylist[y]:\n",
    "            mylist[x],mylist[y]=mylist[y],mylist[x]\n",
    "        x=x+1\n",
    "        y=y+1\n",
    "    print(mylist)\n",
    "        \n",
    "print(mylist)"
   ]
  },
  {
   "cell_type": "code",
   "execution_count": 2,
   "metadata": {},
   "outputs": [
    {
     "name": "stdout",
     "output_type": "stream",
     "text": [
      "[4, 5, 6, 7, 8, 2, 1]\n",
      "[5, 6, 7, 8, 4, 2, 1]\n",
      "[6, 7, 8, 5, 4, 2, 1]\n",
      "[7, 8, 6, 5, 4, 2, 1]\n",
      "[8, 7, 6, 5, 4, 2, 1]\n",
      "[8, 7, 6, 5, 4, 2, 1]\n",
      "[8, 7, 6, 5, 4, 2, 1]\n"
     ]
    }
   ],
   "source": [
    "#di urutkan dari yang terbesar ke yang terkecil\n",
    "mylist=[2,4,5,6,7,8,1]\n",
    "for i in range(len(mylist)-1):\n",
    "    x=0\n",
    "    y=1\n",
    "    while y<len(mylist):\n",
    "        if mylist[x]<mylist[y]:\n",
    "            mylist[x],mylist[y]=mylist[y],mylist[x]\n",
    "        x=x+1\n",
    "        y=y+1\n",
    "    print(mylist)\n",
    "        \n",
    "print(mylist)"
   ]
  },
  {
   "cell_type": "code",
   "execution_count": 3,
   "metadata": {},
   "outputs": [
    {
     "name": "stdout",
     "output_type": "stream",
     "text": [
      "[2, 5, 9, 7, 11, 20, 55, 13]\n",
      "[2, 5, 9, 7, 11, 20, 55, 13]\n",
      "[2, 5, 9, 7, 11, 20, 55, 13]\n",
      "[2, 5, 7, 9, 11, 20, 55, 13]\n",
      "[2, 5, 7, 9, 11, 20, 55, 13]\n",
      "[2, 5, 7, 9, 11, 20, 55, 13]\n",
      "[2, 5, 7, 9, 11, 20, 55, 13]\n",
      "[2, 5, 7, 9, 11, 20, 55, 13]\n",
      "[2, 5, 7, 9, 11, 20, 13, 55]\n",
      "[2, 5, 7, 9, 11, 20, 13, 55]\n",
      "[2, 5, 7, 9, 11, 20, 13, 55]\n",
      "[2, 5, 7, 9, 11, 20, 13, 55]\n",
      "[2, 5, 7, 9, 11, 20, 13, 55]\n",
      "[2, 5, 7, 9, 11, 20, 13, 55]\n",
      "[2, 5, 7, 9, 11, 20, 13, 55]\n",
      "[2, 5, 7, 9, 11, 13, 20, 55]\n",
      "[2, 5, 7, 9, 11, 13, 20, 55]\n",
      "[2, 5, 7, 9, 11, 13, 20, 55]\n",
      "[2, 5, 7, 9, 11, 13, 20, 55]\n",
      "[2, 5, 7, 9, 11, 13, 20, 55]\n",
      "[2, 5, 7, 9, 11, 13, 20, 55]\n",
      "[2, 5, 7, 9, 11, 13, 20, 55]\n",
      "[2, 5, 7, 9, 11, 13, 20, 55]\n",
      "[2, 5, 7, 9, 11, 13, 20, 55]\n",
      "[2, 5, 7, 9, 11, 13, 20, 55]\n",
      "21\n"
     ]
    }
   ],
   "source": [
    "#Selection sorting\n",
    "\n",
    "swap=True\n",
    "mylist=[2,5,9,7,11,20,55,13]\n",
    "iterasi=0\n",
    "while swap==True:\n",
    "    swap=False\n",
    "    for i in range (0,len(mylist)-1,1):\n",
    "        print(mylist)\n",
    "        iterasi+=1\n",
    "        if mylist[i]>mylist[i+1]:\n",
    "            mylist[i+1], mylist[i]=mylist[i],mylist[i+1]\n",
    "            swap=True\n",
    "            print(mylist)\n",
    "    if swap==False:\n",
    "        break\n",
    "print(mylist)\n",
    "print(iterasi)"
   ]
  },
  {
   "cell_type": "code",
   "execution_count": 4,
   "metadata": {},
   "outputs": [
    {
     "name": "stdout",
     "output_type": "stream",
     "text": [
      "[5, 2, 4, 6, 1, 3]\n",
      "[2, 5, 4, 6, 1, 3]\n",
      "[2, 4, 5, 6, 1, 3]\n",
      "[2, 4, 5, 6, 1, 3]\n",
      "[1, 2, 4, 5, 6, 3]\n",
      "[1, 2, 3, 4, 5, 6]\n"
     ]
    }
   ],
   "source": [
    "# insertion sort\n",
    "\n",
    "a=[5,2,4,6,1,3]\n",
    "for i in range (1, len(a)):\n",
    "    print(a)\n",
    "    value=a[i]\n",
    "    hole=i\n",
    "    while hole>0 and a [hole-1]>value:\n",
    "        a [hole]= a [hole-1]\n",
    "        hole=hole-1\n",
    "    a [hole]=value\n",
    "print(a)"
   ]
  },
  {
   "cell_type": "code",
   "execution_count": 5,
   "metadata": {},
   "outputs": [
    {
     "name": "stdout",
     "output_type": "stream",
     "text": [
      "[100, 6, 500, 4, 56, 78, 2, 1, 0]\n",
      "[100, 6, 500, 4, 56, 78, 2, 1, 0]\n",
      "[100, 6, 500, 4, 56, 78, 2, 1, 0]\n",
      "[100, 6, 500, 4, 56, 78, 2, 1, 0]\n",
      "[100, 500, 78, 4, 56, 6, 2, 1, 0]\n",
      "[500, 100, 78, 4, 56, 6, 2, 1, 0]\n",
      "[500, 100, 78, 56, 6, 4, 2, 1, 0]\n"
     ]
    }
   ],
   "source": [
    "#quick sort\n",
    "\n",
    "def quicksorta(A):\n",
    "    quicksortb (A,0,len(A)-1)\n",
    "def quicksortb(A,start,end):\n",
    "    if start<end:\n",
    "        pi=posisi(A,start,end)\n",
    "        quicksortb(A,start,pi-1)\n",
    "        quicksortb(A,pi+1,end)\n",
    "def posisi(A,start,end):\n",
    "    pivot=A[end]\n",
    "    pi=start\n",
    "    print(A)\n",
    "    for i in range(start,end):\n",
    "        if (A[i]>=pivot):\n",
    "            A[i],A[pi]=A[pi],A[i]\n",
    "            pi=pi+1\n",
    "    A[pi],A[end]=A[end],A[pi]\n",
    "    return pi\n",
    "\n",
    "A=[100,6,500,4,56,78,2,1,0]\n",
    "quicksorta(A)\n",
    "print(A)"
   ]
  },
  {
   "cell_type": "code",
   "execution_count": 6,
   "metadata": {},
   "outputs": [
    {
     "name": "stdout",
     "output_type": "stream",
     "text": [
      "[17, 20, 26, 31, 44, 54, 55, 77, 93, 99, 100]\n"
     ]
    }
   ],
   "source": [
    "#merge sort\n",
    "\n",
    "def mergedsort(a):\n",
    "    n=len(a)\n",
    "    if(n<2):\n",
    "        return\n",
    "    mid=len(a)//2\n",
    "    left=a[:mid]\n",
    "    right=a[mid:]\n",
    "    mergedsort(left)\n",
    "    mergedsort(right)\n",
    "    i=0\n",
    "    j=0\n",
    "    k=0\n",
    "    while i<len(left) and j<len(right):\n",
    "        if left[i]<right[j]:\n",
    "            a[k]=left[i]\n",
    "            i=i+1\n",
    "        else:\n",
    "            a[k]=right[j]\n",
    "            j=j+1\n",
    "        k=k+1\n",
    "    while i<len(left):\n",
    "        a[k]=left[i]\n",
    "        i=i+1\n",
    "        k=k+1\n",
    "    while j< len(right):\n",
    "        a[k]=right[j]\n",
    "        j=j+1\n",
    "        k=k+1\n",
    "\n",
    "a=[54,26,93,17,99,77,31,44,55,20,100]\n",
    "mergedsort(a)\n",
    "print(a)"
   ]
  },
  {
   "cell_type": "code",
   "execution_count": 7,
   "metadata": {},
   "outputs": [
    {
     "name": "stdout",
     "output_type": "stream",
     "text": [
      "6 [2, 4, 6, 5, 7, 2, 23, 56, 64, 22, 11, 3, 44]\n",
      "3 [2, 4, 2, 5, 7, 3, 22, 11, 6, 23, 56, 64, 44]\n",
      "1 [2, 2, 3, 4, 5, 6, 7, 11, 22, 23, 44, 56, 64]\n",
      "[2, 2, 3, 4, 5, 6, 7, 11, 22, 23, 44, 56, 64]\n"
     ]
    }
   ],
   "source": [
    "#shell sort\n",
    "\n",
    "def shellsort (a):\n",
    "    sublistcount =  len(a)//2\n",
    "    while sublistcount>0:\n",
    "        for startposisi in range (sublistcount):\n",
    "            gapinsertsort(a,startposisi,sublistcount)\n",
    "        print (sublistcount,a)\n",
    "        sublistcount=sublistcount//2\n",
    "def gapinsertsort(a,start,gap):\n",
    "    for i in range (start+gap, len (a), gap):\n",
    "        currentvalue=a[i]\n",
    "        posisi=i\n",
    "        \n",
    "        while posisi>=gap and a[posisi-gap]>currentvalue:\n",
    "            a[posisi]=a[posisi-gap]\n",
    "            posisi=posisi-gap\n",
    "        a[posisi]=currentvalue\n",
    "        \n",
    "a=[2,4,6,5,7,3,44,56,64,22,11,2,23]\n",
    "shellsort(a)\n",
    "print(a)"
   ]
  }
 ],
 "metadata": {
  "kernelspec": {
   "display_name": "Python 3",
   "language": "python",
   "name": "python3"
  },
  "language_info": {
   "codemirror_mode": {
    "name": "ipython",
    "version": 3
   },
   "file_extension": ".py",
   "mimetype": "text/x-python",
   "name": "python",
   "nbconvert_exporter": "python",
   "pygments_lexer": "ipython3",
   "version": "3.7.1"
  }
 },
 "nbformat": 4,
 "nbformat_minor": 2
}
